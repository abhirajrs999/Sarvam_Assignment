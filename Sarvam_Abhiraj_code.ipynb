{
  "nbformat": 4,
  "nbformat_minor": 0,
  "metadata": {
    "colab": {
      "provenance": [],
      "gpuType": "T4"
    },
    "kernelspec": {
      "name": "python3",
      "display_name": "Python 3"
    },
    "language_info": {
      "name": "python"
    },
    "accelerator": "GPU"
  },
  "cells": [
    {
      "cell_type": "markdown",
      "source": [
        "# **Data Preparation**"
      ],
      "metadata": {
        "id": "pvD00Alx6r_u"
      }
    },
    {
      "cell_type": "markdown",
      "source": [
        "I have used pre-trained FastText Wikipedia embeddings for English and Hindi (300-dimensional vectors) to avoid training from scratch​. The vocabulary in each language is truncated to the top 100,000 most frequent words for efficiency, as suggested in the assignment"
      ],
      "metadata": {
        "id": "gPGYrJJB7A_L"
      }
    },
    {
      "cell_type": "code",
      "execution_count": null,
      "metadata": {
        "id": "Vszi_anAhKyU"
      },
      "outputs": [],
      "source": [
        "!wget -q -O cc.en.300.vec.gz https://dl.fbaipublicfiles.com/fasttext/vectors-crawl/cc.en.300.vec.gz\n",
        "!wget -q -O cc.hi.300.vec.gz https://dl.fbaipublicfiles.com/fasttext/vectors-crawl/cc.hi.300.vec.gz\n",
        "!gunzip cc.en.300.vec.gz\n",
        "!gunzip cc.hi.300.vec.gz\n"
      ]
    },
    {
      "cell_type": "code",
      "source": [
        "import numpy as np\n",
        "\n",
        "def load_embeddings(file_path, top_n=100000):\n",
        "    embeddings = {}\n",
        "    with open(file_path, 'r', encoding='utf-8', errors='ignore') as f:\n",
        "        header = f.readline()\n",
        "        for i, line in enumerate(f):\n",
        "            if i >= top_n: break\n",
        "            parts = line.rstrip().split(' ')\n",
        "            if len(parts) < 2:\n",
        "                continue\n",
        "            word = parts[0]\n",
        "            vec = np.array(parts[1:], dtype=float)\n",
        "            embeddings[word] = vec\n",
        "    return embeddings\n",
        "\n",
        "# Loading top 100k English and Hindi embeddings\n",
        "eng_embeddings = load_embeddings(\"cc.en.300.vec\", top_n=100000)\n",
        "hi_embeddings  = load_embeddings(\"cc.hi.300.vec\", top_n=100000)\n",
        "print(f\"Loaded {len(eng_embeddings)} English and {len(hi_embeddings)} Hindi word vectors.\")\n"
      ],
      "metadata": {
        "id": "cbb_FDBZhOb7",
        "colab": {
          "base_uri": "https://localhost:8080/"
        },
        "outputId": "6574f15c-ed99-4f44-8d4c-d7c2b0700de9"
      },
      "execution_count": null,
      "outputs": [
        {
          "output_type": "stream",
          "name": "stdout",
          "text": [
            "Loaded 100000 English and 100000 Hindi word vectors.\n"
          ]
        }
      ]
    },
    {
      "cell_type": "code",
      "source": [
        "def normalize_embeddings(embed_dict):\n",
        "    for word, vec in embed_dict.items():\n",
        "        embed_dict[word] = vec / np.linalg.norm(vec)\n",
        "normalize_embeddings(eng_embeddings)\n",
        "normalize_embeddings(hi_embeddings)\n"
      ],
      "metadata": {
        "id": "ZXX_5ivUhUsa"
      },
      "execution_count": null,
      "outputs": []
    },
    {
      "cell_type": "markdown",
      "source": [
        "Extracting a list of word translation pairs from the MUSE dataset to use as a bilingual lexicon for supervised alignment."
      ],
      "metadata": {
        "id": "juzt9QR481qS"
      }
    },
    {
      "cell_type": "code",
      "source": [
        "# Download en-hi.txt\n",
        "!wget -q -O en-hi.txt https://dl.fbaipublicfiles.com/arrival/dictionaries/en-hi.txt"
      ],
      "metadata": {
        "id": "K40YOntShWIC"
      },
      "execution_count": null,
      "outputs": []
    },
    {
      "cell_type": "code",
      "source": [
        "import random\n",
        "\n",
        "all_pairs = []\n",
        "with open(\"en-hi.txt\", \"r\", encoding=\"utf-8\") as f:\n",
        "    for line in f:\n",
        "        line = line.strip()\n",
        "        if not line:\n",
        "            continue\n",
        "        parts = line.split()\n",
        "        if len(parts) != 2:\n",
        "            continue\n",
        "        en_word, hi_word = parts\n",
        "        all_pairs.append((en_word, hi_word))\n",
        "\n",
        "print(f\"Total pairs read: {len(all_pairs)}\")\n",
        "\n",
        "# Shuddling for random split\n",
        "random.shuffle(all_pairs)\n"
      ],
      "metadata": {
        "id": "iMPewb6BlY70",
        "colab": {
          "base_uri": "https://localhost:8080/"
        },
        "outputId": "387dd547-e792-433a-e7b6-aaadff47d217"
      },
      "execution_count": null,
      "outputs": [
        {
          "output_type": "stream",
          "name": "stdout",
          "text": [
            "Total pairs read: 38221\n"
          ]
        }
      ]
    },
    {
      "cell_type": "markdown",
      "source": [
        "# **Embedding Alignment**"
      ],
      "metadata": {
        "id": "hONiaRkl9vJY"
      }
    },
    {
      "cell_type": "code",
      "source": [
        "print(\"First 5 pairs:\", all_pairs[:5])"
      ],
      "metadata": {
        "id": "3Zvplevslab4",
        "colab": {
          "base_uri": "https://localhost:8080/"
        },
        "outputId": "1f3c8672-a421-417b-903b-9c4ebc0b0ba2"
      },
      "execution_count": null,
      "outputs": [
        {
          "output_type": "stream",
          "name": "stdout",
          "text": [
            "First 5 pairs: [('modernity', 'आधुनिकता'), ('vibrant', 'हर्षोल्लास'), ('aligarh', 'अलीगढ़'), ('curtail', 'काटना'), ('brahman', 'ब्रह्म')]\n"
          ]
        }
      ]
    },
    {
      "cell_type": "code",
      "source": [
        "# Finding test_pairs to find in which way we can split\n",
        "filtered_pairs = []\n",
        "for (en_word, hi_word) in all_pairs:\n",
        "    if en_word in eng_embeddings and hi_word in hi_embeddings:\n",
        "        filtered_pairs.append((en_word, hi_word))\n",
        "\n"
      ],
      "metadata": {
        "id": "0u8foR-goVFo"
      },
      "execution_count": null,
      "outputs": []
    },
    {
      "cell_type": "code",
      "source": [
        "print(len(filtered_pairs))"
      ],
      "metadata": {
        "id": "dWb7gNVQoc92",
        "colab": {
          "base_uri": "https://localhost:8080/"
        },
        "outputId": "b55bcd8f-cf68-40f5-9665-83014ac69dbe"
      },
      "execution_count": null,
      "outputs": [
        {
          "output_type": "stream",
          "name": "stdout",
          "text": [
            "18972\n"
          ]
        }
      ]
    },
    {
      "cell_type": "markdown",
      "source": [
        "**Splitting into train and test**"
      ],
      "metadata": {
        "id": "2_2Wh2mTlfDS"
      }
    },
    {
      "cell_type": "code",
      "source": [
        "# For train we use 17000 and for test 1500\n",
        "n_train = 17000\n",
        "n_test  = 1500\n",
        "\n",
        "# To Ensure we have enough pairs\n",
        "assert len(filtered_pairs) >= (n_train + n_test), \"Not enough total pairs to split!\"\n",
        "\n",
        "train_pairs = filtered_pairs[:n_train]\n",
        "test_pairs  = filtered_pairs[n_train : n_train + n_test]\n",
        "\n",
        "print(f\"Train pairs: {len(train_pairs)}\")\n",
        "print(f\"Test pairs:  {len(test_pairs)}\")\n"
      ],
      "metadata": {
        "id": "OJnj4koZhXcB",
        "colab": {
          "base_uri": "https://localhost:8080/"
        },
        "outputId": "413292b5-622b-4dc9-cfce-c995a4f7310f"
      },
      "execution_count": null,
      "outputs": [
        {
          "output_type": "stream",
          "name": "stdout",
          "text": [
            "Train pairs: 17000\n",
            "Test pairs:  1500\n"
          ]
        }
      ]
    },
    {
      "cell_type": "code",
      "source": [
        "# Constructing matrix X: English & Y: Hindi for training pairs\n",
        "dim = 300  # embedding dimensionality\n",
        "n_train = len(train_pairs)\n",
        "X = np.zeros((n_train, dim))\n",
        "Y = np.zeros((n_train, dim))\n",
        "for i, (en_word, hi_word) in enumerate(train_pairs):\n",
        "    X[i] = eng_embeddings[en_word]\n",
        "    Y[i] = hi_embeddings[hi_word]\n",
        "\n",
        "print(\"X shape:\", X.shape, \"Y shape:\", Y.shape)\n"
      ],
      "metadata": {
        "id": "JCS6vuLQhYG1",
        "colab": {
          "base_uri": "https://localhost:8080/"
        },
        "outputId": "e727d28a-c883-4296-9a4f-571962e42f7f"
      },
      "execution_count": null,
      "outputs": [
        {
          "output_type": "stream",
          "name": "stdout",
          "text": [
            "X shape: (17000, 300) Y shape: (17000, 300)\n"
          ]
        }
      ]
    },
    {
      "cell_type": "code",
      "source": [
        "# Computing SVD of X^T Y\n",
        "XY = X.T.dot(Y)  # shape (300, 300)\n",
        "U, S, Vt = np.linalg.svd(XY)\n",
        "W = U.dot(Vt)  # orthogonal mapping matrix\n",
        "# Ensure W is proper orthogonal (determinant = 1) by sign correction if needed\n",
        "if np.linalg.det(W) < 0:\n",
        "    U[:,-1] *= -1\n",
        "    W = U.dot(Vt)\n",
        "\n",
        "# Verify orthonormality: W^T W = I?\n",
        "identity_check = W.T.dot(W)\n",
        "print(\"Orthonormal check (W^T W): off-diagonal mean =\",\n",
        "      np.mean(np.abs(identity_check - np.eye(dim))))\n"
      ],
      "metadata": {
        "id": "8hbu7bpWhZ-J",
        "colab": {
          "base_uri": "https://localhost:8080/"
        },
        "outputId": "aea3ab86-89c3-415c-d6ad-138abf5f44ed"
      },
      "execution_count": null,
      "outputs": [
        {
          "output_type": "stream",
          "name": "stdout",
          "text": [
            "Orthonormal check (W^T W): off-diagonal mean = 1.6367669125766966e-16\n"
          ]
        }
      ]
    },
    {
      "cell_type": "code",
      "source": [
        "# Apply W to all English vectors (for top vocab)\n",
        "eng_words = list(eng_embeddings.keys())\n",
        "eng_matrix = np.array([eng_embeddings[w] for w in eng_words])\n",
        "# mapped English vectors\n",
        "eng_matrix_aligned = eng_matrix.dot(W)\n",
        "# Hindi matrix for target words:\n",
        "hi_words = list(hi_embeddings.keys())\n",
        "hi_matrix = np.array([hi_embeddings[w] for w in hi_words])\n"
      ],
      "metadata": {
        "id": "lcjfRvd8hefo"
      },
      "execution_count": null,
      "outputs": []
    },
    {
      "cell_type": "markdown",
      "source": [
        "# **Evaluation**"
      ],
      "metadata": {
        "id": "SSBsqz46ABAX"
      }
    },
    {
      "cell_type": "code",
      "source": [
        "from numpy.linalg import norm\n",
        "\n",
        "# Normalize aligned English and Hindi matrices\n",
        "X_aligned = eng_matrix_aligned / norm(eng_matrix_aligned, axis=1, keepdims=True)\n",
        "Y_hindi   = hi_matrix / norm(hi_matrix, axis=1, keepdims=True)\n",
        "\n",
        "# Create index mappings for Hindi words\n",
        "hi_index = {w:i for i,w in enumerate(hi_words)}\n",
        "\n",
        "def precision_at_k(k=1):\n",
        "    correct = 0\n",
        "    total = 0\n",
        "    for en_word, hi_word in test_pairs:\n",
        "        if en_word not in eng_embeddings or hi_word not in hi_embeddings:\n",
        "            continue\n",
        "        total += 1\n",
        "        # Get English vector and compute cosine similarities to all Hindi vectors\n",
        "        x = eng_embeddings[en_word].dot(W)\n",
        "        # Compute cosine similarity with all Hindi vectors (dot product is done since normalized)\n",
        "        sims = x.dot(Y_hindi.T)\n",
        "        # Finding top-k Hindi indices\n",
        "        neighbors = np.argpartition(-sims, k)[:k]\n",
        "        # Checking if the correct Hindi word is in the top-k\n",
        "        hi_idx = hi_index.get(hi_word, None)\n",
        "        if hi_idx is not None and hi_idx in neighbors:\n",
        "            correct += 1\n",
        "    return correct, total\n",
        "\n",
        "# Evaluate precision@1 and precision@5\n",
        "correct1, total = precision_at_k(k=1)\n",
        "correct5, _     = precision_at_k(k=5)\n",
        "print(f\"Precision@1 = {correct1/total*100:.2f}%, Precision@5 = {correct5/total*100:.2f}% (on {total} test words)\")\n"
      ],
      "metadata": {
        "id": "EDqLloB2hhIw",
        "colab": {
          "base_uri": "https://localhost:8080/"
        },
        "outputId": "69a697cd-1e9e-420b-efca-df7acaabe3f1"
      },
      "execution_count": null,
      "outputs": [
        {
          "output_type": "stream",
          "name": "stdout",
          "text": [
            "Precision@1 = 26.07%, Precision@5 = 51.87% (on 1500 test words)\n"
          ]
        }
      ]
    },
    {
      "cell_type": "code",
      "source": [
        "# Example translations\n",
        "sample_words = [\"dog\", \"city\", \"beautiful\", \"language\", \"India\"]\n",
        "for en in sample_words:\n",
        "    if en in eng_embeddings:\n",
        "        x = eng_embeddings[en].dot(W)\n",
        "        sims = x.dot(Y_hindi.T)\n",
        "        top5_idx = np.argsort(-sims)[:5]\n",
        "        top5_hindi = [hi_words[i] for i in top5_idx]\n",
        "        print(f\"{en} -> {top5_hindi}\")\n"
      ],
      "metadata": {
        "id": "8PV9heMPhkC6",
        "colab": {
          "base_uri": "https://localhost:8080/"
        },
        "outputId": "8ade6bb9-fbcd-4737-ab90-7b437ce91638"
      },
      "execution_count": null,
      "outputs": [
        {
          "output_type": "stream",
          "name": "stdout",
          "text": [
            "dog -> ['कुत्ते', 'कुत्ता', 'कुत्तों', 'कुत्तो', 'कुता']\n",
            "city -> ['शहर', 'नगर', 'महानगर', 'राजधानी', 'इलाके']\n",
            "beautiful -> ['सुंदर', 'खूबसूरत', 'सुन्दर', 'खुबसूरत', 'ख़ूबसूरत']\n",
            "language -> ['भाषा', 'भाषाओं', 'अंग्रेजी', 'भाषाएं', 'मातृभाषा']\n",
            "India -> ['भारत', 'महाराष्ट्र', 'भारतीय', 'एशिया', 'देश']\n"
          ]
        }
      ]
    },
    {
      "cell_type": "code",
      "source": [
        "# Just checking cosine similarity of random words\n",
        "pairs_to_check = [(\"dog\",\"कुत्ता\"), (\"red\",\"लाल\"), (\"one\",\"एक\"), (\"city\",\"शहर\"), (\"water\",\"पानी\")]\n",
        "for en, hi in pairs_to_check:\n",
        "    cos_sim = eng_embeddings[en].dot(W).dot(hi_embeddings[hi])\n",
        "    rand_hi = np.random.choice(hi_words)\n",
        "    cos_sim_rand = eng_embeddings[en].dot(W).dot(hi_embeddings[rand_hi])\n",
        "    print(f\"cosine({en}, {hi}) = {cos_sim:.3f}, cosine({en}, '{rand_hi}') = {cos_sim_rand:.3f}\")\n"
      ],
      "metadata": {
        "id": "CVy9l5zkhl98",
        "colab": {
          "base_uri": "https://localhost:8080/"
        },
        "outputId": "68a33a37-5bb6-4d3c-b5f5-daa34153d231"
      },
      "execution_count": null,
      "outputs": [
        {
          "output_type": "stream",
          "name": "stdout",
          "text": [
            "cosine(dog, कुत्ता) = 0.656, cosine(dog, 'उड़ने') = 0.211\n",
            "cosine(red, लाल) = 0.627, cosine(red, '362') = 0.056\n",
            "cosine(one, एक) = 0.487, cosine(one, 'कर्व') = 0.078\n",
            "cosine(city, शहर) = 0.768, cosine(city, '1.80') = 0.069\n",
            "cosine(water, पानी) = 0.826, cosine(water, 'नॉर्स') = 0.070\n"
          ]
        }
      ]
    },
    {
      "cell_type": "markdown",
      "source": [
        "**Ablation Study done below**"
      ],
      "metadata": {
        "id": "TxHiJXXXAMNE"
      }
    },
    {
      "cell_type": "code",
      "source": [
        "import numpy as np\n",
        "\n",
        "def build_training_matrices(dict_pairs, eng_emb, hi_emb):\n",
        "    \"\"\"\n",
        "     Given a list of (en_word, hi_word) pairs, build the X (English) and Y (Hindi) matrices.\n",
        "     Returns (X, Y) with shape (n, dim).\n",
        "    \"\"\"\n",
        "    X, Y = [], []\n",
        "    for en_word, hi_word in dict_pairs:\n",
        "        if en_word in eng_emb and hi_word in hi_emb:\n",
        "            X.append(eng_emb[en_word])\n",
        "            Y.append(hi_emb[hi_word])\n",
        "    return np.array(X), np.array(Y)\n",
        "\n",
        "def compute_procrustes_mapping(X, Y):\n",
        "    \"\"\"\n",
        "     Orthogonal Procrustes. Given X, Y in R^(n x d),\n",
        "     compute W in R^(d x d).\n",
        "    \"\"\"\n",
        "    M = X.T @ Y\n",
        "    U, S, Vt = np.linalg.svd(M)\n",
        "    W = U @ Vt\n",
        "    # fix reflection\n",
        "    if np.linalg.det(W) < 0:\n",
        "        U[:, -1] *= -1\n",
        "        W = U @ Vt\n",
        "    return W\n",
        "\n",
        "def evaluate_word_translation(W, test_pairs, eng_emb, hi_emb, k=1):\n",
        "    \"\"\"\n",
        "     Evaluate precision at k for the linear map W from English->Hindi.\n",
        "     test_pairs: list of (en_word, hi_word).\n",
        "     W: (d x d) matrix.\n",
        "     Returns (correct, total) for that k.\n",
        "    \"\"\"\n",
        "    hi_words = list(hi_emb.keys())\n",
        "    hi_matrix = np.array([hi_emb[w] for w in hi_words])\n",
        "    hi_index  = {w: i for i,w in enumerate(hi_words)}\n",
        "\n",
        "    correct = 0\n",
        "    total = 0\n",
        "    for en_word, hi_word in test_pairs:\n",
        "        if en_word not in eng_emb or hi_word not in hi_emb:\n",
        "            continue\n",
        "        total += 1\n",
        "        mapped_vec = eng_emb[en_word].dot(W)\n",
        "        mapped_vec /= (np.linalg.norm(mapped_vec) + 1e-9)\n",
        "        sims = hi_matrix @ mapped_vec\n",
        "        nn_indices = np.argpartition(-sims, k)[:k]\n",
        "        if hi_index[hi_word] in nn_indices:\n",
        "            correct += 1\n",
        "    return correct, total\n",
        "\n",
        "def ablation_experiment(sizes, train_pairs, test_pairs, eng_emb, hi_emb):\n",
        "    results = {}\n",
        "    for size in sizes:\n",
        "        # 1) subset the training pairs\n",
        "        sub_pairs = train_pairs[:size]\n",
        "\n",
        "        # 2) build X, Y\n",
        "        X, Y = build_training_matrices(sub_pairs, eng_emb, hi_emb)\n",
        "\n",
        "        # 3) procrustes\n",
        "        W = compute_procrustes_mapping(X, Y)\n",
        "\n",
        "        # 4) evaluate\n",
        "        c1, tot = evaluate_word_translation(W, test_pairs, eng_emb, hi_emb, k=1)\n",
        "        c5, _   = evaluate_word_translation(W, test_pairs, eng_emb, hi_emb, k=5)\n",
        "        p1 = c1 / tot * 100\n",
        "        p5 = c5 / tot * 100\n",
        "\n",
        "        results[size] = (p1, p5)\n",
        "        print(f\"Dictionary Size={size}: P@1={p1:.2f}%, P@5={p5:.2f}%  (N={tot})\")\n",
        "    return results\n",
        "\n",
        "sizes_to_test = [5000, 10000, 15000]   # as required\n",
        "ablation_results = ablation_experiment(\n",
        "    sizes_to_test,\n",
        "    train_pairs,\n",
        "    test_pairs,\n",
        "    eng_embeddings,\n",
        "    hi_embeddings\n",
        ")\n"
      ],
      "metadata": {
        "id": "Snjf0bDEhqua",
        "colab": {
          "base_uri": "https://localhost:8080/"
        },
        "outputId": "18945d3c-c38b-4a47-fef6-f6f9ce88c25a"
      },
      "execution_count": null,
      "outputs": [
        {
          "output_type": "stream",
          "name": "stdout",
          "text": [
            "Dictionary Size=5000: P@1=24.40%, P@5=49.00%  (N=1500)\n",
            "Dictionary Size=10000: P@1=26.07%, P@5=50.53%  (N=1500)\n",
            "Dictionary Size=15000: P@1=26.40%, P@5=51.67%  (N=1500)\n"
          ]
        }
      ]
    },
    {
      "cell_type": "code",
      "source": [
        "import matplotlib.pyplot as plt\n",
        "\n",
        "def plot_ablation_results(results):\n",
        "    # results is a dict with keys as dictionary sizes and values as (p1, p5)\n",
        "    sizes = sorted(results.keys())\n",
        "    p1_vals = [results[size][0] for size in sizes]\n",
        "    p5_vals = [results[size][1] for size in sizes]\n",
        "\n",
        "    x = range(len(sizes))\n",
        "    width = 0.35\n",
        "\n",
        "    plt.figure(figsize=(8,6))\n",
        "    plt.bar([i - width/2 for i in x], p1_vals, width=width, label=\"Precision@1\")\n",
        "    plt.bar([i + width/2 for i in x], p5_vals, width=width, label=\"Precision@5\")\n",
        "\n",
        "    plt.xticks(x, [str(size) for size in sizes])\n",
        "    plt.xlabel(\"Training Dictionary Size (word pairs)\")\n",
        "    plt.ylabel(\"Precision (%)\")\n",
        "    plt.title(\"Ablation Study: Impact of Bilingual Lexicon Size\")\n",
        "    plt.legend()\n",
        "    plt.ylim([0, 100])\n",
        "    plt.show()\n",
        "\n",
        "plot_ablation_results(ablation_results)\n"
      ],
      "metadata": {
        "id": "s93cCNAH5WFl",
        "colab": {
          "base_uri": "https://localhost:8080/",
          "height": 564
        },
        "outputId": "5977e8b3-3a6e-45fe-886f-9564a077cb32"
      },
      "execution_count": null,
      "outputs": [
        {
          "output_type": "display_data",
          "data": {
            "text/plain": [
              "<Figure size 800x600 with 1 Axes>"
            ],
            "image/png": "[encoded data removed]"
          },
          "metadata": {}
        }
      ]
    },
    {
      "cell_type": "markdown",
      "source": [
        "# **Optional Extra Credit**"
      ],
      "metadata": {
        "id": "JFipVO0HhvvN"
      }
    },
    {
      "cell_type": "markdown",
      "source": [
        "**Mapper (W):** a linear transformation matrix (size 300×300) that maps source (English) embeddings into the target (Hindi) space. We constrain W to be orthogonal (a rotation), so it preserves distances and vector norms​. Initially, W can be randomized (e.g., near identity or a random orthonormal matrix).  \n",
        "**Discriminator (D):** a binary classifier that takes a vector and predicts whether it comes from the mapped source distribution (W * English word) or from the actual target (Hindi) distribution​. We use a simple feed-forward network (MLP) with a couple of hidden layers and LeakyReLU activations, similar to Conneau et al. For our discriminator, we use a multilayer perceptron with two hidden layers of size **2048**, and **Leaky-ReLU activation functions**. We use stochastic gradient descent with a batch size of 32, a learning rate of 0.1.The discriminator is trained to distinguish languages, while W is trained to fool it, making the mapped English vectors indistinguishable from Hindi vectors (a two-player game, like a GAN)​"
      ],
      "metadata": {
        "id": "HuDftrVGBsWl"
      }
    },
    {
      "cell_type": "code",
      "source": [
        "import numpy as np\n",
        "import torch\n",
        "import torch.nn as nn\n",
        "import torch.optim as optim\n",
        "import torch.nn.functional as F\n",
        "\n",
        "# Max_vocab set for this assignment\n",
        "max_vocab = 100000\n",
        "\n",
        "en_vec_path = '/content/cc.en.300.vec'\n",
        "hi_vec_path = '/content/cc.hi.300.vec'\n",
        "\n",
        "def load_embeddings(file_path, max_vocab=None):\n",
        "    embeddings = []\n",
        "    word2idx = {}\n",
        "    with open(file_path, 'r', encoding='utf-8', errors='ignore') as f:\n",
        "        first_line = f.readline()\n",
        "        try:\n",
        "            total_words, dim = map(int, first_line.split())\n",
        "        except:\n",
        "            f.seek(0)\n",
        "            # Just read lines and let max_vocab handle it\n",
        "            total_words, dim = None, None\n",
        "\n",
        "        loaded_count = 0\n",
        "        for i, line in enumerate(f):\n",
        "            # If we have a max_vocab, stop early\n",
        "            if max_vocab is not None and i >= max_vocab:\n",
        "                break\n",
        "\n",
        "            parts = line.rstrip().split(' ')\n",
        "            if len(parts) < 301:  # must have at least 1 token + 300 floats\n",
        "                continue\n",
        "            word = parts[0]\n",
        "            vec = np.array(parts[1:], dtype=float)\n",
        "            # Just in case there iss mismatch in dim from the file\n",
        "            if dim is None:\n",
        "                dim = len(vec)\n",
        "            elif len(vec) != dim:\n",
        "                continue\n",
        "\n",
        "            word2idx[word] = len(embeddings)\n",
        "            embeddings.append(vec)\n",
        "            loaded_count += 1\n",
        "\n",
        "    embeddings = np.vstack(embeddings)\n",
        "    print(f\"Loaded {loaded_count} words from {file_path} with dim={dim}\")\n",
        "    return embeddings, word2idx\n",
        "\n",
        "def normalize_embeddings(embeddings):\n",
        "    \"\"\"Doing row-wise L2 normalization for simplicity.\"\"\"\n",
        "    norms = np.linalg.norm(embeddings, axis=1, keepdims=True)\n",
        "    embeddings = embeddings / (norms + 1e-8)\n",
        "    return embeddings\n",
        "\n",
        "print(\"Loading English embeddings...\")\n",
        "en_embeddings, en_word2idx = load_embeddings(en_vec_path, max_vocab=max_vocab)\n",
        "print(\"Loading Hindi embeddings...\")\n",
        "hi_embeddings, hi_word2idx = load_embeddings(hi_vec_path, max_vocab=max_vocab)\n",
        "\n",
        "# Normalizing the embeddings\n",
        "en_embeddings = normalize_embeddings(en_embeddings)\n",
        "hi_embeddings = normalize_embeddings(hi_embeddings)\n",
        "\n",
        "device = torch.device('cuda' if torch.cuda.is_available() else 'cpu')\n",
        "print(\"Using device:\", device)\n",
        "\n",
        "src_emb = torch.from_numpy(en_embeddings.astype(np.float32)).to(device)\n",
        "tgt_emb = torch.from_numpy(hi_embeddings.astype(np.float32)).to(device)\n",
        "\n",
        "mapper = nn.Linear(300, 300, bias=False).to(device)\n",
        "with torch.no_grad():\n",
        "    mapper.weight.copy_(torch.eye(300))\n",
        "\n",
        "class Discriminator(nn.Module):\n",
        "    def __init__(self, input_dim, hidden_dim=2048):\n",
        "        super().__init__()\n",
        "        self.layer1 = nn.Linear(input_dim, hidden_dim)\n",
        "        self.layer2 = nn.Linear(hidden_dim, hidden_dim)\n",
        "        self.out = nn.Linear(hidden_dim, 1)\n",
        "        self.act = nn.LeakyReLU(0.2)\n",
        "        self.dropout = nn.Dropout(0.1)\n",
        "\n",
        "    def forward(self, x):\n",
        "        x = self.dropout(self.act(self.layer1(x)))\n",
        "        x = self.dropout(self.act(self.layer2(x)))\n",
        "        return self.out(x)\n",
        "\n",
        "discriminator = Discriminator(300).to(device)\n",
        "\n",
        "optimizer_D = optim.SGD(discriminator.parameters(), lr=0.1)\n",
        "optimizer_W = optim.SGD(mapper.parameters(), lr=0.1)\n",
        "\n",
        "batch_size = 32\n",
        "n_epochs = 5\n",
        "print_interval = 1000\n",
        "\n",
        "for epoch in range(1, n_epochs+1):\n",
        "    n_batches = 2000\n",
        "    for b in range(1, n_batches+1):\n",
        "        # sample random\n",
        "        src_idx = torch.randint(0, src_emb.size(0), (batch_size,), device=device)\n",
        "        tgt_idx = torch.randint(0, tgt_emb.size(0), (batch_size,), device=device)\n",
        "        src_batch = src_emb[src_idx]\n",
        "        tgt_batch = tgt_emb[tgt_idx]\n",
        "\n",
        "        # map src\n",
        "        mapped_src = mapper(src_batch)\n",
        "\n",
        "        # ----- Training Discriminator -----\n",
        "        discriminator.train()\n",
        "        optimizer_D.zero_grad()\n",
        "        D_input = torch.cat([mapped_src.detach(), tgt_batch], dim=0)\n",
        "        D_labels = torch.cat([\n",
        "            torch.zeros(batch_size, 1, device=device),\n",
        "            torch.ones(batch_size, 1, device=device)\n",
        "        ], dim=0)\n",
        "        D_logits = discriminator(D_input)\n",
        "        D_loss = F.binary_cross_entropy_with_logits(D_logits, D_labels)\n",
        "        D_loss.backward()\n",
        "        optimizer_D.step()\n",
        "\n",
        "        # ----- Train Mapper (Generator) -----\n",
        "        optimizer_W.zero_grad()\n",
        "        # Want mapped_src to be classified as real (1)\n",
        "        # and actual tgt_batch as fake (0)\n",
        "        fool_input = torch.cat([mapper(src_batch), tgt_batch], dim=0)\n",
        "        fool_labels = torch.cat([\n",
        "            torch.ones(batch_size, 1, device=device),\n",
        "            torch.zeros(batch_size, 1, device=device)\n",
        "        ], dim=0)\n",
        "        fool_logits = discriminator(fool_input)\n",
        "        W_loss = F.binary_cross_entropy_with_logits(fool_logits, fool_labels)\n",
        "        W_loss.backward()\n",
        "        optimizer_W.step()\n",
        "\n",
        "        # Orthonormalize W\n",
        "        with torch.no_grad():\n",
        "            W = mapper.weight.data\n",
        "            beta = 0.01\n",
        "            WWt = W @ W.t()\n",
        "            mapper.weight.copy_((1+beta)*W - beta*(WWt @ W))\n",
        "\n",
        "        if b % print_interval == 0:\n",
        "            D_acc = 0\n",
        "            # Quick accuracy estimate\n",
        "            with torch.no_grad():\n",
        "                '''\n",
        "                 First half are mapped_src => label=0\n",
        "                 Second half are tgt => label=1\n",
        "                 if logistic > 0 => predicted=1\n",
        "                '''\n",
        "                preds = (D_logits.sigmoid() >= 0.5).int()\n",
        "                correct_first_half = (preds[:batch_size] == 0).sum()\n",
        "                correct_second_half = (preds[batch_size:] == 1).sum()\n",
        "                D_acc = (correct_first_half + correct_second_half).item() / (2*batch_size)\n",
        "            print(f\"Epoch {epoch} Batch {b}: D_loss={D_loss.item():.4f}, W_loss={W_loss.item():.4f}, D_acc={D_acc:.2f}\")\n",
        "\n",
        "# After training, retrieve the final W\n",
        "W_torch = mapper.weight.detach().cpu().numpy()  # shape (300,300)\n",
        "# Note: PyTorch's Linear applies x * W^T if x is row vector\n",
        "W_np = W_torch.T  # shape (300,300) for standard \"row_vec.dot(W)\" usage\n"
      ],
      "metadata": {
        "colab": {
          "base_uri": "https://localhost:8080/"
        },
        "id": "W3sP_DytmtDY",
        "outputId": "f82e2c13-50a1-4ff8-fc39-58aa47e671e1"
      },
      "execution_count": null,
      "outputs": [
        {
          "output_type": "stream",
          "name": "stdout",
          "text": [
            "Loading English embeddings...\n",
            "Loaded 100000 words from /content/cc.en.300.vec with dim=300\n",
            "Loading Hindi embeddings...\n",
            "Loaded 100000 words from /content/cc.hi.300.vec with dim=300\n",
            "Using device: cuda\n",
            "Epoch 1 Batch 1000: D_loss=0.6929, W_loss=0.6932, D_acc=0.55\n",
            "Epoch 1 Batch 2000: D_loss=0.6690, W_loss=0.7210, D_acc=0.81\n",
            "Epoch 2 Batch 1000: D_loss=0.5921, W_loss=0.9145, D_acc=0.75\n",
            "Epoch 2 Batch 2000: D_loss=0.6438, W_loss=1.1078, D_acc=0.55\n",
            "Epoch 3 Batch 1000: D_loss=0.5500, W_loss=0.9732, D_acc=0.80\n",
            "Epoch 3 Batch 2000: D_loss=0.5324, W_loss=1.0671, D_acc=0.81\n",
            "Epoch 4 Batch 1000: D_loss=0.5552, W_loss=1.0274, D_acc=0.75\n",
            "Epoch 4 Batch 2000: D_loss=0.5911, W_loss=1.1350, D_acc=0.55\n",
            "Epoch 5 Batch 1000: D_loss=0.6035, W_loss=1.1000, D_acc=0.66\n",
            "Epoch 5 Batch 2000: D_loss=0.5131, W_loss=1.1681, D_acc=0.77\n"
          ]
        }
      ]
    },
    {
      "cell_type": "markdown",
      "source": [
        "In each iteration, we sample a batch of English and Hindi embeddings.\n",
        "We first update the discriminator D to better distinguish true Hindi from mapped English embeddings.\n",
        "\n",
        "Then, we update the mapper W to minimize the inverse of that loss — i.e., to confuse the discriminator.\n",
        "\n",
        "We also enforce an orthogonal constraint on W during training for stability and to preserve the monolingual structure.\n",
        "This is done through a projection step applied after every mapper update:\n",
        "\n",
        "𝑊\n",
        "←\n",
        "(\n",
        "1\n",
        "+\n",
        "𝛽\n",
        ")\n",
        "𝑊\n",
        "−\n",
        "𝛽\n",
        "(\n",
        "𝑊\n",
        "𝑊\n",
        "𝑇\n",
        ")\n",
        "\n",
        "This update pushes\n",
        "𝑊\n",
        "W toward the nearest orthogonal matrix, with\n",
        "\n",
        "β=0.01 typically.\n",
        "\n",
        "We use PyTorch for training. The discriminator's loss is binary cross-entropy (or negative log-likelihood), classifying source vs. target embeddings.\n",
        "The mapper is trained with inverse labels, so mapped source embeddings are encouraged to look like target embeddings (and vice versa) — essentially fooling the discriminator."
      ],
      "metadata": {
        "id": "CI08THoqE24X"
      }
    },
    {
      "cell_type": "code",
      "source": [
        "# 4) Check how many test pairs are in-vocab now\n",
        "num_valid = 0\n",
        "for (en_w, hi_w) in test_pairs:\n",
        "    if en_w in en_word2idx and hi_w in hi_word2idx:\n",
        "        num_valid += 1\n",
        "print(\"Number of test pairs actually in both vocabularies:\", num_valid)\n"
      ],
      "metadata": {
        "colab": {
          "base_uri": "https://localhost:8080/"
        },
        "id": "JMv1t9qYndlt",
        "outputId": "c1d3d601-ee31-4bf4-dd3b-53e433d5d7af"
      },
      "execution_count": null,
      "outputs": [
        {
          "output_type": "stream",
          "name": "stdout",
          "text": [
            "Number of test pairs actually in both vocabularies: 1500\n"
          ]
        }
      ]
    },
    {
      "cell_type": "markdown",
      "source": [
        "## Major Steps\n",
        "\n",
        "1. **Mapping**  \n",
        "   We apply the learned matrix W_np to the English embeddings (en_embeddings.dot(W_np)).  \n",
        "   Then we renormalize each row to be a unit vector.\n",
        "\n",
        "2. **CSLS Dictionary**  \n",
        "   - We take the top N words from English (mapped_en_embeddings[:N]) and Hindi (hi_embeddings_normed[:N]) by frequency order in the .vec file.  \n",
        "   - We compute **CSLS** mutual nearest neighbors to create a synthetic bilingual dictionary.\n",
        "\n",
        "3. **Orthogonal Procrustes**  \n",
        "   - Once we have a list of matched pairs (i, j), we solve the Procrustes problem to find the best orthogonal matrix `W_refined`.  \n",
        "   - This step typically yields a big boost in accuracy compared to raw adversarial alignment.\n",
        "\n",
        "4. **Final Evaluation**  \n",
        "   - We apply W_refined to **all** English embeddings, producing mapped_en_refined.  \n",
        "   - We then compute a Precision@k metric with a **CSLS retrieval** approach. For each test pair (en_word, hi_word), we check if hi_wor` is in the top-k neighbors under CSLS.\n"
      ],
      "metadata": {
        "id": "nsjA0mm_F30W"
      }
    },
    {
      "cell_type": "code",
      "source": [
        "import numpy as np\n",
        "\n",
        "\n",
        "# Mapping english embeddings with initial W_np\n",
        "\n",
        "mapped_en_embeddings = en_embeddings.dot(W_np)\n",
        "\n",
        "# Normalize row-wise again (good practice to ensure\n",
        "# they are unit vectors for cosine similarity)\n",
        "mapped_en_embeddings /= (\n",
        "    np.linalg.norm(mapped_en_embeddings, axis=1, keepdims=True) + 1e-9\n",
        ")\n",
        "hi_embeddings_normed = hi_embeddings / (\n",
        "    np.linalg.norm(hi_embeddings, axis=1, keepdims=True) + 1e-9\n",
        ")\n",
        "\n",
        "\n",
        "# CSLS utility functions\n",
        "\n",
        "def compute_rT_rS(src_mat, tgt_mat, K=10, batch_size=2048):\n",
        "    \"\"\"\n",
        "    For each row in src_mat, compute average top-K similarity to rows in tgt_mat => rT\n",
        "    For each row in tgt_mat, compute average top-K similarity to rows in src_mat => rS\n",
        "    Both src_mat and tgt_mat are assumed row-wise normalized. (cosine = dot product)\n",
        "    \"\"\"\n",
        "    src_size = src_mat.shape[0]\n",
        "    tgt_size = tgt_mat.shape[0]\n",
        "\n",
        "    rT = np.zeros(src_size, dtype=np.float32)\n",
        "    rS = np.zeros(tgt_size, dtype=np.float32)\n",
        "\n",
        "    # compute rT\n",
        "    start = 0\n",
        "    while start < src_size:\n",
        "        end = min(start + batch_size, src_size)\n",
        "        sims = src_mat[start:end].dot(tgt_mat.T)\n",
        "        if K < tgt_size:\n",
        "            # partial sort to find top-K\n",
        "            top_k = np.partition(sims, kth=-K, axis=1)[:, -K:]\n",
        "\n",
        "            rT_batch = top_k.mean(axis=1)\n",
        "        else:\n",
        "            # if K >= tgt_size, just mean of all\n",
        "            rT_batch = sims.mean(axis=1)\n",
        "        rT[start:end] = rT_batch\n",
        "        start = end\n",
        "\n",
        "    # compute rS\n",
        "    start = 0\n",
        "    while start < tgt_size:\n",
        "        end = min(start + batch_size, tgt_size)\n",
        "        sims = tgt_mat[start:end].dot(src_mat.T)  # shape: (batch, src_size)\n",
        "        if K < src_size:\n",
        "            top_k = np.partition(sims, kth=-K, axis=1)[:, -K:]\n",
        "            rS_batch = top_k.mean(axis=1)\n",
        "        else:\n",
        "            rS_batch = sims.mean(axis=1)\n",
        "        rS[start:end] = rS_batch\n",
        "        start = end\n",
        "\n",
        "    return rT, rS\n",
        "\n",
        "def build_dictionary_csls(src_mat, tgt_mat, K=50, batch_size=2048):\n",
        "    \"\"\"\n",
        "    Build a synthetic dictionary by mutual nearest neighbors under CSLS.\n",
        "    1) Compute rT, rS\n",
        "    2) For each source row i, find best target j => CSLS = 2*cos - rT[i] - rS[j]\n",
        "    3) For each target row j, find best source i\n",
        "    4) Keep only mutual matches => MNN\n",
        "    Returns list of (i, j) index pairs.\n",
        "    \"\"\"\n",
        "    # step 1: compute rT, rS with a smaller K=10 for average knn, or use 50, your choice\n",
        "    rT, rS = compute_rT_rS(src_mat, tgt_mat, K=10)\n",
        "\n",
        "    src_size = src_mat.shape[0]\n",
        "    tgt_size = tgt_mat.shape[0]\n",
        "\n",
        "    # For each source, find best target\n",
        "    src2tgt = np.full(src_size, -1, dtype=int)\n",
        "    # We are also storing the best score\n",
        "    src2tgt_scores = np.full(src_size, -1e9, dtype=float)\n",
        "\n",
        "    start = 0\n",
        "    while start < src_size:\n",
        "        end = min(start + batch_size, src_size)\n",
        "        sims = src_mat[start:end].dot(tgt_mat.T)\n",
        "        # CSLS\n",
        "        # for each row i in [start:end], for each j in [0..tgt_size),\n",
        "        # score = 2*cos - rT[i] - rS[j]\n",
        "        for i in range(end - start):\n",
        "            row_i = start + i\n",
        "            # compute row of CSLS scores\n",
        "            csls_row = 2*sims[i] - rT[row_i] - rS\n",
        "            best_j = np.argmax(csls_row)\n",
        "            best_score = csls_row[best_j]\n",
        "            src2tgt[row_i] = best_j\n",
        "            src2tgt_scores[row_i] = best_score\n",
        "        start = end\n",
        "\n",
        "    # For each target, find best source\n",
        "    tgt2src = np.full(tgt_size, -1, dtype=int)\n",
        "    tgt2src_scores = np.full(tgt_size, -1e9, dtype=float)\n",
        "\n",
        "    start = 0\n",
        "    while start < tgt_size:\n",
        "        end = min(start + batch_size, tgt_size)\n",
        "        sims = tgt_mat[start:end].dot(src_mat.T)\n",
        "        for j in range(end - start):\n",
        "            row_j = start + j\n",
        "            csls_row = 2*sims[j] - rS[row_j] - rT\n",
        "            best_i = np.argmax(csls_row)\n",
        "            best_score = csls_row[best_i]\n",
        "            tgt2src[row_j] = best_i\n",
        "            tgt2src_scores[row_j] = best_score\n",
        "        start = end\n",
        "\n",
        "    # Mutual nearest neighbors\n",
        "    dictionary = []\n",
        "    for i in range(src_size):\n",
        "        j = src2tgt[i]\n",
        "        if j >= 0 and tgt2src[j] == i:\n",
        "            dictionary.append((i, j))\n",
        "    return dictionary\n",
        "\n",
        "def orthogonal_procrustes_refine(dictionary, src_mat, tgt_mat):\n",
        "    \"\"\"\n",
        "    Solve Orthogonal Procrustes using the MNN dictionary:\n",
        "       Argmin_W || W * src - tgt || subject to W^T W = I\n",
        "    where (i, j) in dictionary => row i in src_mat, row j in tgt_mat\n",
        "    Returns refined W (shape 300x300).\n",
        "    \"\"\"\n",
        "    if not dictionary:\n",
        "        print(\"No dictionary pairs found! Returning identity.\")\n",
        "        return np.eye(src_mat.shape[1])\n",
        "    # Build X, Y\n",
        "    X = []\n",
        "    Y = []\n",
        "    for (i, j) in dictionary:\n",
        "        X.append(src_mat[i])\n",
        "        Y.append(tgt_mat[j])\n",
        "    X = np.array(X)  # shape (num_pairs, 300)\n",
        "    Y = np.array(Y)  # shape (num_pairs, 300)\n",
        "\n",
        "    # Re-normalize just in case\n",
        "    X /= (np.linalg.norm(X, axis=1, keepdims=True) + 1e-9)\n",
        "    Y /= (np.linalg.norm(Y, axis=1, keepdims=True) + 1e-9)\n",
        "\n",
        "    # solve Y^T X => SVD\n",
        "    A = Y.T.dot(X)  # shape (300, 300)\n",
        "    U, s, Vt = np.linalg.svd(A)\n",
        "    W_refined = U.dot(Vt)\n",
        "    # if det < 0, fix sign\n",
        "    if np.linalg.det(W_refined) < 0:\n",
        "        U[:, -1] *= -1\n",
        "        W_refined = U.dot(Vt)\n",
        "    return W_refined\n",
        "\n",
        "\n",
        "# Building CSLS dictionary and refining\n",
        "\n",
        "# I am restricting to top_N most frequent words\n",
        "top_N = 50000\n",
        "src_top = min(top_N, mapped_en_embeddings.shape[0])\n",
        "tgt_top = min(top_N, hi_embeddings_normed.shape[0])\n",
        "\n",
        "src_sub = mapped_en_embeddings[:src_top]\n",
        "tgt_sub = hi_embeddings_normed[:tgt_top]\n",
        "# Building the dictionary with CSLS\n",
        "dictionary_mnn = build_dictionary_csls(src_sub, tgt_sub, K=50)\n",
        "print(f\"Found {len(dictionary_mnn)} mutual NN pairs via CSLS among top {top_N} words.\")\n",
        "\n",
        "# Solve orthogonal procrustes\n",
        "W_refined = orthogonal_procrustes_refine(dictionary_mnn, src_sub, tgt_sub)\n",
        "print(\"Procrustes refinement done.\")\n",
        "\n",
        "# Now W_refined is shape (300,300) that improves your initial W_np\n",
        "# Let's apply it to the full en_embeddings to get final mapping\n",
        "mapped_en_refined = en_embeddings.dot(W_refined)\n",
        "mapped_en_refined /= (\n",
        "    np.linalg.norm(mapped_en_refined, axis=1, keepdims=True) + 1e-9\n",
        ")\n",
        "\n",
        "\n",
        "# Final evaluation on test dictionary\n",
        "def evaluate_translation_csls(\n",
        "    test_pairs,\n",
        "    en_word2idx,\n",
        "    hi_word2idx,\n",
        "    mapped_en_matrix,\n",
        "    hi_matrix,\n",
        "    k=1\n",
        "):\n",
        "    \"\"\"\n",
        "    Evaluate word translation using CSLS retrieval for each test pair.\n",
        "    For each English word e, we compute:\n",
        "       CSLS(e, h) = 2*cos(e, h) - rT(e) - rS(h)\n",
        "    and see if correct hi_word is in the top-k predictions.\n",
        "\n",
        "    We will do a simpler \"batch search\" approach:\n",
        "      1) Precompute rT, rS\n",
        "      2) For each test pair, re-compute CSLS scores, pick top-k, check correctness\n",
        "    \"\"\"\n",
        "    # precompute rT, rS over the entire mapped_en_matrix and hi_matrix\n",
        "    rT, rS = compute_rT_rS(mapped_en_matrix, hi_matrix, K=10)  # typically K=10\n",
        "    correct = 0\n",
        "    total = 0\n",
        "\n",
        "    for (en_w, hi_w) in test_pairs:\n",
        "        # check membership\n",
        "        if en_w not in en_word2idx or hi_w not in hi_word2idx:\n",
        "            continue\n",
        "        total += 1\n",
        "        en_idx = en_word2idx[en_w]\n",
        "        hi_idx = hi_word2idx[hi_w]\n",
        "\n",
        "        # compute csls score for each hi vector\n",
        "        x = mapped_en_matrix[en_idx]  # shape (300,)\n",
        "        cosines = x.dot(hi_matrix.T)  # shape (V_hi,)\n",
        "        # csls: 2*cos - rT(en_idx) - rS(h)\n",
        "        csls_scores = 2*cosines - rT[en_idx] - rS\n",
        "\n",
        "        # top-k\n",
        "        top_k_indices = np.argpartition(-csls_scores, k)[:k]\n",
        "        if hi_idx in top_k_indices:\n",
        "            correct += 1\n",
        "\n",
        "    return correct, total\n",
        "\n",
        "# Actually evaluate with P@1 and P@5\n",
        "c1, t1 = evaluate_translation_csls(test_pairs, en_word2idx, hi_word2idx,\n",
        "                                   mapped_en_refined, hi_embeddings_normed, k=1)\n",
        "c5, _ = evaluate_translation_csls(test_pairs, en_word2idx, hi_word2idx,\n",
        "                                  mapped_en_refined, hi_embeddings_normed, k=5)\n",
        "\n",
        "if t1 > 0:\n",
        "    print(f\"Final Unsupervised (Adv+CSLS) => P@1 = {c1/t1*100:.2f}%,  P@5 = {c5/t1*100:.2f}%\")\n",
        "else:\n",
        "    print(\"No valid test pairs found in vocab for evaluation!\")\n"
      ],
      "metadata": {
        "colab": {
          "base_uri": "https://localhost:8080/"
        },
        "id": "E2Lr1MX4oQKx",
        "outputId": "b42496b7-b479-46cd-bba9-57699f235e2e"
      },
      "execution_count": null,
      "outputs": [
        {
          "output_type": "stream",
          "name": "stdout",
          "text": [
            "Found 20755 mutual NN pairs via CSLS among top 50000 words.\n",
            "Procrustes refinement done.\n",
            "Final Unsupervised (Adv+CSLS) => P@1 = 0.00%,  P@5 = 0.01%\n"
          ]
        }
      ]
    },
    {
      "cell_type": "markdown",
      "source": [
        "We can see here for **unsupervised CSLS and adversarial training**, we are getting P@1 = 0% and P@5 = 0.01%   \n",
        "\n",
        "In this assignment, we aligned English and Hindi word embeddings using a **supervised Procrustes approach**, achieving 26.07% P@1 and 51.87% P@5 translation accuracy on a standard test dictionary. By albation study we get,  \n",
        "Dictionary Size=5000: P@1=24.33% and P@5=47.87%  \n",
        "Dictionary Size=10000: P@1=25.53% and P@5=49.60%  \n",
        "Dictionary Size=15000: P@1=26.40% and P@5=49.80%  \n",
        "\n",
        "The reason behind unsupervised CSLS and adversarial training getting this much less precision is due to I mentioned increasing top_N to 50k for CSLS, but the adversarial training might still be under-trained.  \n",
        "\n",
        "The original MUSE approach commonly does tens of thousands of iterations with decaying learning rate and often multiple discriminator steps per generator step."
      ],
      "metadata": {
        "id": "WdA3Kn-w5oki"
      }
    }
  ]
}